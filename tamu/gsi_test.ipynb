{
 "cells": [
  {
   "cell_type": "code",
   "execution_count": 67,
   "metadata": {},
   "outputs": [],
   "source": [
    "import datetime\n",
    "import numpy as np\n",
    "import pandas as pd\n",
    "from os import listdir\n",
    "from datetime import date\n",
    "import matplotlib.pyplot as plt\n",
    "from os.path import isfile, join"
   ]
  },
  {
   "cell_type": "code",
   "execution_count": 68,
   "metadata": {},
   "outputs": [
    {
     "data": {
      "text/html": [
       "<div>\n",
       "<style scoped>\n",
       "    .dataframe tbody tr th:only-of-type {\n",
       "        vertical-align: middle;\n",
       "    }\n",
       "\n",
       "    .dataframe tbody tr th {\n",
       "        vertical-align: top;\n",
       "    }\n",
       "\n",
       "    .dataframe thead th {\n",
       "        text-align: right;\n",
       "    }\n",
       "</style>\n",
       "<table border=\"1\" class=\"dataframe\">\n",
       "  <thead>\n",
       "    <tr style=\"text-align: right;\">\n",
       "      <th></th>\n",
       "      <th>Time (s)</th>\n",
       "      <th>I2 (DC Current)</th>\n",
       "      <th>V2 (DC Volt)</th>\n",
       "    </tr>\n",
       "  </thead>\n",
       "  <tbody>\n",
       "    <tr>\n",
       "      <th>8</th>\n",
       "      <td>2019-11-24 12:07:19.042</td>\n",
       "      <td>0.428532</td>\n",
       "      <td>12.202442</td>\n",
       "    </tr>\n",
       "    <tr>\n",
       "      <th>9</th>\n",
       "      <td>2019-11-24 12:07:19.544</td>\n",
       "      <td>0.4284</td>\n",
       "      <td>12.202442</td>\n",
       "    </tr>\n",
       "    <tr>\n",
       "      <th>10</th>\n",
       "      <td>2019-11-24 12:07:20.040</td>\n",
       "      <td>0.428532</td>\n",
       "      <td>12.202442</td>\n",
       "    </tr>\n",
       "    <tr>\n",
       "      <th>11</th>\n",
       "      <td>2019-11-24 12:07:20.540</td>\n",
       "      <td>0.428664</td>\n",
       "      <td>12.202442</td>\n",
       "    </tr>\n",
       "    <tr>\n",
       "      <th>12</th>\n",
       "      <td>2019-11-24 12:07:21.041</td>\n",
       "      <td>0.428664</td>\n",
       "      <td>12.202442</td>\n",
       "    </tr>\n",
       "    <tr>\n",
       "      <th>13</th>\n",
       "      <td>2019-11-24 12:07:21.540</td>\n",
       "      <td>0.428796</td>\n",
       "      <td>12.202442</td>\n",
       "    </tr>\n",
       "    <tr>\n",
       "      <th>14</th>\n",
       "      <td>2019-11-24 12:07:22.039</td>\n",
       "      <td>0.428928</td>\n",
       "      <td>12.202442</td>\n",
       "    </tr>\n",
       "    <tr>\n",
       "      <th>15</th>\n",
       "      <td>2019-11-24 12:07:22.541</td>\n",
       "      <td>0.428928</td>\n",
       "      <td>12.202442</td>\n",
       "    </tr>\n",
       "    <tr>\n",
       "      <th>16</th>\n",
       "      <td>2019-11-24 12:07:23.040</td>\n",
       "      <td>0.42906</td>\n",
       "      <td>12.202442</td>\n",
       "    </tr>\n",
       "    <tr>\n",
       "      <th>17</th>\n",
       "      <td>2019-11-24 12:07:23.540</td>\n",
       "      <td>0.42906</td>\n",
       "      <td>12.202442</td>\n",
       "    </tr>\n",
       "  </tbody>\n",
       "</table>\n",
       "</div>"
      ],
      "text/plain": [
       "                   Time (s) I2 (DC Current) V2 (DC Volt)\n",
       "8   2019-11-24 12:07:19.042        0.428532    12.202442\n",
       "9   2019-11-24 12:07:19.544          0.4284    12.202442\n",
       "10  2019-11-24 12:07:20.040        0.428532    12.202442\n",
       "11  2019-11-24 12:07:20.540        0.428664    12.202442\n",
       "12  2019-11-24 12:07:21.041        0.428664    12.202442\n",
       "13  2019-11-24 12:07:21.540        0.428796    12.202442\n",
       "14  2019-11-24 12:07:22.039        0.428928    12.202442\n",
       "15  2019-11-24 12:07:22.541        0.428928    12.202442\n",
       "16  2019-11-24 12:07:23.040         0.42906    12.202442\n",
       "17  2019-11-24 12:07:23.540         0.42906    12.202442"
      ]
     },
     "execution_count": 68,
     "metadata": {},
     "output_type": "execute_result"
    }
   ],
   "source": [
    "# read in GSI Test Data\n",
    "test_file = 'Run_2/2 E36313A 192.168.10.10.CSV'\n",
    "data = pd.read_csv(\"GSI_Testing/\" + test_file) \n",
    "data = data.iloc[8:]\n",
    "data.rename(columns={\"Address\": \"Time (s)\", \"TCPIP0::192.168.10.10::5025::SOCKET\": \"I2 (DC Current)\", \"Unnamed: 2\": \"V2 (DC Volt)\"}, inplace = True)\n",
    "data.head(10)"
   ]
  },
  {
   "cell_type": "code",
   "execution_count": 69,
   "metadata": {},
   "outputs": [
    {
     "name": "stdout",
     "output_type": "stream",
     "text": [
      "Test duration: 231.5\n",
      "Number of datapoints: 464\n"
     ]
    }
   ],
   "source": [
    "# convert date-time to total duration in seconds\n",
    "temp = data['Time (s)'].tolist()\n",
    "date_times = []\n",
    "\n",
    "for i in range(len(temp)):\n",
    "    date_time_str = temp[i]\n",
    "    date_time_obj = datetime.datetime.strptime(date_time_str, '%Y-%m-%d %H:%M:%S.%f')\n",
    "    date_times.append(date_time_obj)\n",
    "\n",
    "test_seconds = []\n",
    "for i in range(len(date_times)):\n",
    "    start = date_times[0]\n",
    "    end = date_times[i]\n",
    "    total_t = (end - start).total_seconds()\n",
    "    test_seconds.append(total_t)\n",
    "    \n",
    "t_max = str(round(max(test_seconds), 2))\n",
    "    \n",
    "# current\n",
    "current = data['I2 (DC Current)'].tolist()\n",
    "voltage = data['V2 (DC Volt)'].tolist()\n",
    "\n",
    "num_data_pts = str(len(voltage))\n",
    "\n",
    "print('Test duration: ' + t_max)\n",
    "print('Number of datapoints: ' + num_data_pts)\n",
    "\n",
    "\n",
    "\n",
    "for i in range(len(current)):\n",
    "    current[i] = float(current[i])\n",
    "    voltage[i] = float(voltage[i])\n",
    "\n",
    "current = current[:400]\n",
    "voltage = voltage[:400]\n",
    "test_seconds = test_seconds[:400]"
   ]
  },
  {
   "cell_type": "code",
   "execution_count": 70,
   "metadata": {},
   "outputs": [
    {
     "data": {
      "image/png": "[encoded data removed]",
      "text/plain": [
       "<Figure size 432x288 with 1 Axes>"
      ]
     },
     "metadata": {
      "needs_background": "light"
     },
     "output_type": "display_data"
    }
   ],
   "source": [
    "plt.plot(test_seconds, voltage)\n",
    "plt.axis([0, max(test_seconds), min(voltage)-.003, max(voltage)+.003])\n",
    "plt.xlabel(\"Time (s)\")\n",
    "plt.ylabel(\"Voltage\")\n",
    "plt.yscale('log')\n",
    "plt.show()"
   ]
  },
  {
   "cell_type": "code",
   "execution_count": 71,
   "metadata": {},
   "outputs": [
    {
     "data": {
      "image/png": "[encoded data removed]",
      "text/plain": [
       "<Figure size 432x288 with 1 Axes>"
      ]
     },
     "metadata": {
      "needs_background": "light"
     },
     "output_type": "display_data"
    }
   ],
   "source": [
    "plt.plot(test_seconds, current)\n",
    "plt.axis([0, max(test_seconds), min(current)-.003, max(current)+.003])\n",
    "plt.xlabel(\"Time (s)\")\n",
    "plt.ylabel(\"Current\")\n",
    "#plt.yscale('log')\n",
    "plt.show()"
   ]
  },
  {
   "cell_type": "code",
   "execution_count": null,
   "metadata": {},
   "outputs": [],
   "source": []
  }
 ],
 "metadata": {
  "kernelspec": {
   "display_name": "Python 3",
   "language": "python",
   "name": "python3"
  },
  "language_info": {
   "codemirror_mode": {
    "name": "ipython",
    "version": 3
   },
   "file_extension": ".py",
   "mimetype": "text/x-python",
   "name": "python",
   "nbconvert_exporter": "python",
   "pygments_lexer": "ipython3",
   "version": "3.7.4"
  }
 },
 "nbformat": 4,
 "nbformat_minor": 2
}
