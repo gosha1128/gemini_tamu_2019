{
 "cells": [
  {
   "cell_type": "code",
   "execution_count": 16,
   "metadata": {},
   "outputs": [],
   "source": [
    "import datetime\n",
    "import numpy as np\n",
    "import pandas as pd\n",
    "from os import listdir\n",
    "from datetime import date\n",
    "import matplotlib.pyplot as plt\n",
    "from os.path import isfile, join"
   ]
  },
  {
   "cell_type": "code",
   "execution_count": null,
   "metadata": {},
   "outputs": [],
   "source": []
  },
  {
   "cell_type": "code",
   "execution_count": 17,
   "metadata": {},
   "outputs": [],
   "source": [
    "# choose file to parse\n",
    "experiment = 'logs/RUN3_LET6.7'"
   ]
  },
  {
   "cell_type": "code",
   "execution_count": 18,
   "metadata": {},
   "outputs": [
    {
     "data": {
      "text/html": [
       "<div>\n",
       "<style scoped>\n",
       "    .dataframe tbody tr th:only-of-type {\n",
       "        vertical-align: middle;\n",
       "    }\n",
       "\n",
       "    .dataframe tbody tr th {\n",
       "        vertical-align: top;\n",
       "    }\n",
       "\n",
       "    .dataframe thead th {\n",
       "        text-align: right;\n",
       "    }\n",
       "</style>\n",
       "<table border=\"1\" class=\"dataframe\">\n",
       "  <thead>\n",
       "    <tr style=\"text-align: right;\">\n",
       "      <th></th>\n",
       "      <th>0</th>\n",
       "      <th>1</th>\n",
       "      <th>2</th>\n",
       "    </tr>\n",
       "  </thead>\n",
       "  <tbody>\n",
       "    <tr>\n",
       "      <th>0</th>\n",
       "      <td>2019-11-24</td>\n",
       "      <td>20:13:13.015325</td>\n",
       "      <td>before gnl setup</td>\n",
       "    </tr>\n",
       "    <tr>\n",
       "      <th>1</th>\n",
       "      <td>2019-11-24</td>\n",
       "      <td>20:13:13.015346</td>\n",
       "      <td>1</td>\n",
       "    </tr>\n",
       "    <tr>\n",
       "      <th>2</th>\n",
       "      <td>2019-11-24</td>\n",
       "      <td>20:13:14.126054</td>\n",
       "      <td>2</td>\n",
       "    </tr>\n",
       "    <tr>\n",
       "      <th>3</th>\n",
       "      <td>2019-11-24</td>\n",
       "      <td>20:13:14.126090</td>\n",
       "      <td>3</td>\n",
       "    </tr>\n",
       "    <tr>\n",
       "      <th>4</th>\n",
       "      <td>2019-11-24</td>\n",
       "      <td>20:13:14.126097</td>\n",
       "      <td>4</td>\n",
       "    </tr>\n",
       "    <tr>\n",
       "      <th>5</th>\n",
       "      <td>2019-11-24</td>\n",
       "      <td>20:13:14.157533</td>\n",
       "      <td>5</td>\n",
       "    </tr>\n",
       "    <tr>\n",
       "      <th>6</th>\n",
       "      <td>2019-11-24</td>\n",
       "      <td>20:13:14.170808</td>\n",
       "      <td>6</td>\n",
       "    </tr>\n",
       "    <tr>\n",
       "      <th>7</th>\n",
       "      <td>2019-11-24</td>\n",
       "      <td>20:13:14.170860</td>\n",
       "      <td>after gnl setup</td>\n",
       "    </tr>\n",
       "    <tr>\n",
       "      <th>8</th>\n",
       "      <td>2019-11-24</td>\n",
       "      <td>20:13:24.410601</td>\n",
       "      <td>searching knn_hamming !!!!!!!!!!!</td>\n",
       "    </tr>\n",
       "    <tr>\n",
       "      <th>9</th>\n",
       "      <td>2019-11-24</td>\n",
       "      <td>20:13:28.568938</td>\n",
       "      <td>search duration: 4.1583335399627686</td>\n",
       "    </tr>\n",
       "  </tbody>\n",
       "</table>\n",
       "</div>"
      ],
      "text/plain": [
       "            0                1                                    2\n",
       "0  2019-11-24  20:13:13.015325                     before gnl setup\n",
       "1  2019-11-24  20:13:13.015346                                    1\n",
       "2  2019-11-24  20:13:14.126054                                    2\n",
       "3  2019-11-24  20:13:14.126090                                    3\n",
       "4  2019-11-24  20:13:14.126097                                    4\n",
       "5  2019-11-24  20:13:14.157533                                    5\n",
       "6  2019-11-24  20:13:14.170808                                    6\n",
       "7  2019-11-24  20:13:14.170860                      after gnl setup\n",
       "8  2019-11-24  20:13:24.410601    searching knn_hamming !!!!!!!!!!!\n",
       "9  2019-11-24  20:13:28.568938  search duration: 4.1583335399627686"
      ]
     },
     "execution_count": 18,
     "metadata": {},
     "output_type": "execute_result"
    }
   ],
   "source": [
    "# load file\n",
    "files = [f for f in listdir(experiment) if isfile(join(experiment, f))]\n",
    "for i in range(len(files)):\n",
    "    if files[i][0:6] == 'SEARCH':\n",
    "        file = files[i]\n",
    "        break\n",
    "        \n",
    "file = experiment + '/' + file\n",
    "\n",
    "with open(file) as f:\n",
    "    content = f.readlines()\n",
    "content = [x.strip() for x in content] \n",
    "\n",
    "# get time data\n",
    "for i in range(len(content)):\n",
    "    if content[i][0:4] == '2019':\n",
    "        content = content[i:]\n",
    "        break\n",
    "        \n",
    "# break time-stamped data into a multi-dimensional array        \n",
    "search = []        \n",
    "for i in range(len(content)):\n",
    "    temp = content[i].split()\n",
    "    date_time_str = temp[0] + ' ' + temp[1]\n",
    "    date_time_obj = datetime.datetime.strptime(date_time_str, '%Y-%m-%d %H:%M:%S.%f')\n",
    "    date = date_time_obj.date()\n",
    "    time = date_time_obj.time()\n",
    "    col3 = ''\n",
    "    for i in range(len(temp[2:])):\n",
    "        col3 = col3 + temp[i+2] + ' '\n",
    "    col3 = col3[:-1]\n",
    "    item = [date, time, col3]\n",
    "    search.append(item)\n",
    "\n",
    "# create pandas dataframe with time-stamped data\n",
    "df = pd.DataFrame(search) \n",
    "df.head(10)"
   ]
  },
  {
   "cell_type": "code",
   "execution_count": 19,
   "metadata": {},
   "outputs": [
    {
     "name": "stdout",
     "output_type": "stream",
     "text": [
      "Test duration: 256.1 seconds\n",
      "127 data points recorded!\n"
     ]
    }
   ],
   "source": [
    "times = df[1].tolist()\n",
    "def get_time(beginning, end):\n",
    "    t = datetime.datetime.combine(date.min, end) - datetime.datetime.combine(date.min, beginning)\n",
    "    return t\n",
    "\n",
    "t_seconds = []\n",
    "for i in range(len(times)):\n",
    "    t_seconds.append(get_time(times[0],times[i]))\n",
    "    t_seconds[i] = t_seconds[i].total_seconds()\n",
    "    \n",
    "t_max = round(max(t_seconds), 2)\n",
    "print('Test duration: ' + str(t_max) + ' seconds')\n",
    "\n",
    "logs = df[2].tolist()\n",
    "logs = [logs[i][:20] for i in range(len(logs))]\n",
    "\n",
    "print(str(len(logs)) + ' data points recorded!')"
   ]
  },
  {
   "cell_type": "code",
   "execution_count": 20,
   "metadata": {},
   "outputs": [
    {
     "data": {
      "text/plain": [
       "<function matplotlib.pyplot.show(*args, **kw)>"
      ]
     },
     "execution_count": 20,
     "metadata": {},
     "output_type": "execute_result"
    },
    {
     "data": {
      "image/png": "[encoded data removed]",
      "text/plain": [
       "<Figure size 1440x360 with 1 Axes>"
      ]
     },
     "metadata": {
      "needs_background": "light"
     },
     "output_type": "display_data"
    }
   ],
   "source": [
    "# plot test logs\n",
    "#matplotlib notebook\n",
    "import matplotlib.pyplot as plt\n",
    "import numpy as np\n",
    "\n",
    "\n",
    "lim = len(t_seconds)\n",
    "mult = 5\n",
    "#Max = t_seconds[lim*mult]\n",
    "Max = t_seconds[len(t_seconds)-1]\n",
    "interval = Max/10 + 10 - (Max/10)%10\n",
    "\n",
    "\n",
    "def addtext(i,time, log, ax, props):\n",
    "    if i%2 == 0:\n",
    "        ax.text(time, 0.1, log, props, rotation=45)\n",
    "    else:\n",
    "        ax.text(time, 0.5, log, props, rotation=45)\n",
    "    ax.grid(False)\n",
    "\n",
    "\n",
    "fig, ax = plt.subplots(figsize=(20,5))\n",
    "\n",
    "for i in range(lim):\n",
    "    addtext(i,t_seconds[i], logs[i], ax, {'ha': 'left', 'va': 'bottom'})\n",
    "\n",
    "ax.set_xticks(np.arange(0, Max, interval), [])\n",
    "ax.set_xlabel('Time (seconds)')\n",
    "\n",
    "## begone the right, left, top and bottom spines\n",
    "ax.spines['right'].set_visible(False)\n",
    "ax.spines['top'].set_visible(False)\n",
    "ax.spines['left'].set_visible(False)\n",
    "plt.yticks([], [])\n",
    "ax.set_yticklabels([])\n",
    "plt.title('Event Logs by Time')\n",
    "plt.show"
   ]
  },
  {
   "cell_type": "code",
   "execution_count": null,
   "metadata": {},
   "outputs": [],
   "source": [
    "\n"
   ]
  },
  {
   "cell_type": "code",
   "execution_count": null,
   "metadata": {},
   "outputs": [],
   "source": []
  },
  {
   "cell_type": "code",
   "execution_count": null,
   "metadata": {},
   "outputs": [],
   "source": []
  },
  {
   "cell_type": "code",
   "execution_count": null,
   "metadata": {},
   "outputs": [],
   "source": []
  }
 ],
 "metadata": {
  "kernelspec": {
   "display_name": "Python 3",
   "language": "python",
   "name": "python3"
  },
  "language_info": {
   "codemirror_mode": {
    "name": "ipython",
    "version": 3
   },
   "file_extension": ".py",
   "mimetype": "text/x-python",
   "name": "python",
   "nbconvert_exporter": "python",
   "pygments_lexer": "ipython3",
   "version": "3.7.4"
  }
 },
 "nbformat": 4,
 "nbformat_minor": 2
}
